{
  "cells": [
    {
      "cell_type": "markdown",
      "metadata": {
        "id": "view-in-github",
        "colab_type": "text"
      },
      "source": [
        "<a href=\"https://colab.research.google.com/github/TumblerWarren/LLM_Inference_System/blob/master/Resource/collab_code/LLM_INFERENCE_COLLAB.ipynb\" target=\"_parent\"><img src=\"https://colab.research.google.com/assets/colab-badge.svg\" alt=\"Open In Colab\"/></a>"
      ]
    },
    {
      "cell_type": "code",
      "execution_count": null,
      "metadata": {
        "id": "7VhFVPAnJqXv",
        "cellView": "form"
      },
      "outputs": [],
      "source": [
        "#@title 1.Copy Github Repo\n",
        "!git clone https://github.com/TumblerWarren/LLM_Inference_System.git\n",
        "%cd LLM_Inference_System\n"
      ]
    },
    {
      "cell_type": "code",
      "execution_count": null,
      "metadata": {
        "id": "sChXUMkWMGGG",
        "cellView": "form"
      },
      "outputs": [],
      "source": [
        "#@title 2. Install Requirement\n",
        "!pip install llama-cpp-python==0.1.78\n",
        "!pip install Flask~=2.3.2\n",
        "!pip install huggingface_hub\n",
        "!pip install requests~=2.31.0\n",
        "!pip install pyngrok"
      ]
    },
    {
      "cell_type": "code",
      "execution_count": null,
      "metadata": {
        "id": "mdECs_KSWvkp",
        "cellView": "form"
      },
      "outputs": [],
      "source": [
        "#@title 3. Enter your Nagrok Token\n",
        "authtoken=''#@param {type:\"string\"}\n",
        "!ngrok config add-authtoken $authtoken\n"
      ]
    },
    {
      "cell_type": "code",
      "execution_count": null,
      "metadata": {
        "id": "R7CXJUO3NCd7",
        "cellView": "form"
      },
      "outputs": [],
      "source": [
        "#@title 4. Download Model\n",
        "%cd collab_version\n",
        "\n",
        "from huggingface_hub import hf_hub_download\n",
        "import os\n",
        "\n",
        "REPO_ID = \"TheBloke/Pygmalion-7B-SuperHOT-8K-GGML\"\n",
        "FILENAME = \"pygmalion-7b-superhot-8k.ggmlv3.q6_K.bin\"\n",
        "LOCAL_DIR = \"../Resource/Model\"  # Use forward slashes for directory paths\n",
        "\n",
        "# Check if the local directory exists, and if not, create it\n",
        "if not os.path.exists(LOCAL_DIR):\n",
        "    os.makedirs(LOCAL_DIR)\n",
        "\n",
        "# Download the model to the local directory\n",
        "hf_hub_download(repo_id=REPO_ID, filename=FILENAME, local_dir=LOCAL_DIR)\n"
      ]
    },
    {
      "cell_type": "code",
      "execution_count": null,
      "metadata": {
        "id": "wj2CGCIVOeiX",
        "cellView": "form"
      },
      "outputs": [],
      "source": [
        "#@title 5. RUN\n",
        "!python API_Collab.py"
      ]
    }
  ],
  "metadata": {
    "colab": {
      "provenance": [],
      "include_colab_link": true
    },
    "kernelspec": {
      "display_name": "Python 3",
      "name": "python3"
    },
    "language_info": {
      "name": "python"
    }
  },
  "nbformat": 4,
  "nbformat_minor": 0
}