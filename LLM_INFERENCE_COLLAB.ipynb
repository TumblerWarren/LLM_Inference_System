{
  "cells": [
    {
      "cell_type": "markdown",
      "metadata": {
        "id": "view-in-github",
        "colab_type": "text"
      },
      "source": [
        "<a href=\"https://colab.research.google.com/github/TumblerWarren/LLM_Inference_System/blob/master/LLM_INFERENCE_COLLAB.ipynb\" target=\"_parent\"><img src=\"https://colab.research.google.com/assets/colab-badge.svg\" alt=\"Open In Colab\"/></a>"
      ]
    },
    {
      "cell_type": "code",
      "execution_count": null,
      "metadata": {
        "colab": {
          "base_uri": "https://localhost:8080/"
        },
        "id": "7VhFVPAnJqXv",
        "outputId": "f74cd16c-3821-454a-c9bc-548dc9ef30d7"
      },
      "outputs": [
        {
          "name": "stdout",
          "output_type": "stream",
          "text": [
            "Cloning into 'LLM_Inference_System'...\n",
            "remote: Enumerating objects: 152, done.\u001b[K\n",
            "remote: Counting objects: 100% (152/152), done.\u001b[K\n",
            "remote: Compressing objects: 100% (113/113), done.\u001b[K\n",
            "remote: Total 152 (delta 73), reused 91 (delta 33), pack-reused 0\u001b[K\n",
            "Receiving objects: 100% (152/152), 43.03 KiB | 2.39 MiB/s, done.\n",
            "Resolving deltas: 100% (73/73), done.\n"
          ]
        }
      ],
      "source": [
        "!git clone https://github.com/TumblerWarren/LLM_Inference_System.git\n",
        "%cd LLM_Inference_System\n"
      ]
    },
    {
      "cell_type": "code",
      "execution_count": null,
      "metadata": {
        "cellView": "form",
        "id": "sChXUMkWMGGG"
      },
      "outputs": [],
      "source": [
        "#@title 2. Install Requirement\n",
        "!pip install llama-cpp-python==0.1.78\n",
        "!pip install Flask~=2.3.2\n",
        "!pip install huggingface_hub\n",
        "!pip install requests~=2.31.0\n",
        "!pip install pyngrok"
      ]
    },
    {
      "cell_type": "code",
      "execution_count": null,
      "metadata": {
        "colab": {
          "base_uri": "https://localhost:8080/"
        },
        "id": "mdECs_KSWvkp",
        "outputId": "aca87bc1-123d-4556-f5c8-176316ec79a4"
      },
      "outputs": [
        {
          "name": "stdout",
          "output_type": "stream",
          "text": [
            "Authtoken saved to configuration file: /root/.ngrok2/ngrok.yml\n"
          ]
        }
      ],
      "source": [
        "#@title 2. Enter your Nagrok Token\n",
        "authtoken='2VIE3Plf4uLLgicKWhCr8fqKt0W_spGeYKx65X1KA3eefjAL'#@param {type:\"string\"}\n",
        "!ngrok config add-authtoken authtoken\n"
      ]
    },
    {
      "cell_type": "code",
      "execution_count": null,
      "metadata": {
        "colab": {
          "base_uri": "https://localhost:8080/"
        },
        "id": "debKSRfbM8oo",
        "outputId": "2be83231-a5f7-4a4c-8eee-05d74c4c528b"
      },
      "outputs": [
        {
          "name": "stdout",
          "output_type": "stream",
          "text": [
            "/content/LLM_Inference_System/collab_version\n"
          ]
        }
      ],
      "source": [
        "%cd collab_version"
      ]
    },
    {
      "cell_type": "code",
      "execution_count": null,
      "metadata": {
        "cellView": "form",
        "id": "R7CXJUO3NCd7"
      },
      "outputs": [],
      "source": [
        "#@title 2. Download Model\n",
        "\n",
        "from huggingface_hub import hf_hub_download\n",
        "import os\n",
        "\n",
        "REPO_ID = \"TheBloke/Pygmalion-7B-SuperHOT-8K-GGML\" #@param [\"TheBloke/Spicyboros-7B-2.2-GGUF\",\"TheBloke/Guanaco-13B-Uncensored-GGUF\",\"TheBloke/Nous-Hermes-Llama2-GGUF\",\"TheBloke/Pygmalion-7B-SuperHOT-8K-GGML\"]\n",
        "FILENAME = \"pygmalion-7b-superhot-8k.ggmlv3.q6_K.bin\" #@param [\"spicyboros-7b-2.2.Q6_K.gguf\",\"guanaco-13b-uncensored.Q5_K_M.gguf\",\"nous-hermes-llama2-13b.Q5_0.gguf\",\"pygmalion-7b-superhot-8k.ggmlv3.q6_K.bin\"]\n",
        "\n",
        "LOCAL_DIR = \"../Resource/Model\"  # Use forward slashes for directory paths\n",
        "\n",
        "# Check if the local directory exists, and if not, create it\n",
        "if not os.path.exists(LOCAL_DIR):\n",
        "    os.makedirs(LOCAL_DIR)\n",
        "\n",
        "# Download the model to the local directory\n",
        "hf_hub_download(repo_id=REPO_ID, filename=FILENAME, local_dir=LOCAL_DIR)\n"
      ]
    },
    {
      "cell_type": "code",
      "execution_count": null,
      "metadata": {
        "colab": {
          "background_save": true,
          "base_uri": "https://localhost:8080/"
        },
        "id": "wj2CGCIVOeiX",
        "outputId": "179fe9a3-8eb8-4f1d-aa3f-98f016411bff"
      },
      "outputs": [
        {
          "name": "stdout",
          "output_type": "stream",
          "text": [
            "llama.cpp: loading model from /content/LLM_Inference_System/Resource/Model/pygmalion-7b-superhot-8k.ggmlv3.q6_K.bin\n",
            "llama_model_load_internal: format     = ggjt v3 (latest)\n",
            "llama_model_load_internal: n_vocab    = 32000\n",
            "llama_model_load_internal: n_ctx      = 2080\n",
            "llama_model_load_internal: n_embd     = 4096\n",
            "llama_model_load_internal: n_mult     = 256\n",
            "llama_model_load_internal: n_head     = 32\n",
            "llama_model_load_internal: n_head_kv  = 32\n",
            "llama_model_load_internal: n_layer    = 32\n",
            "llama_model_load_internal: n_rot      = 128\n",
            "llama_model_load_internal: n_gqa      = 1\n",
            "llama_model_load_internal: rnorm_eps  = 0.0e+00\n",
            "llama_model_load_internal: n_ff       = 11008\n",
            "llama_model_load_internal: freq_base  = 10000.0\n",
            "llama_model_load_internal: freq_scale = 1\n",
            "llama_model_load_internal: ftype      = 18 (mostly Q6_K)\n",
            "llama_model_load_internal: model size = 7B\n",
            "llama_model_load_internal: ggml ctx size =    0.08 MB\n",
            "llama_model_load_internal: mem required  = 5272.43 MB (+ 1040.00 MB per state)\n",
            "llama_new_context_with_model: kv self size  = 1040.00 MB\n",
            "llama_new_context_with_model: compute buffer total size =  155.35 MB\n",
            "AVX = 1 | AVX2 = 1 | AVX512 = 0 | AVX512_VBMI = 0 | AVX512_VNNI = 0 | FMA = 1 | NEON = 0 | ARM_FMA = 0 | F16C = 1 | FP16_VA = 0 | WASM_SIMD = 0 | BLAS = 0 | SSE3 = 1 | VSX = 0 | \n",
            "t=2023-09-13T14:08:27+0000 lvl=warn msg=\"ngrok config file found at legacy location, move to XDG location\" xdg_path=/root/.config/ngrok/ngrok.yml legacy_path=/root/.ngrok2/ngrok.yml\n",
            "\n",
            "PLACE THIS URL IN THE ENV FILE OF THE VIRTUAL AVATAR CHATBOT:-   https://85f3-34-75-7-187.ngrok-free.app\n",
            "\n",
            " * Serving Flask app 'API_Collab'\n",
            " * Debug mode: off\n",
            "\u001b[31m\u001b[1mWARNING: This is a development server. Do not use it in a production deployment. Use a production WSGI server instead.\u001b[0m\n",
            " * Running on http://127.0.0.1:5000\n",
            "\u001b[33mPress CTRL+C to quit\u001b[0m\n"
          ]
        }
      ],
      "source": [
        "!python API_Collab.py"
      ]
    }
  ],
  "metadata": {
    "colab": {
      "provenance": [],
      "authorship_tag": "ABX9TyOwbkhlveoO5pRWhEKf5cxR",
      "include_colab_link": true
    },
    "kernelspec": {
      "display_name": "Python 3",
      "name": "python3"
    },
    "language_info": {
      "name": "python"
    }
  },
  "nbformat": 4,
  "nbformat_minor": 0
}